{
 "cells": [
  {
   "cell_type": "code",
   "execution_count": 43,
   "id": "002e3e75-fa68-40ac-a808-b11638d735c2",
   "metadata": {},
   "outputs": [],
   "source": [
    "                              #variables is interger"
   ]
  },
  {
   "cell_type": "code",
   "execution_count": 21,
   "id": "b51219e5-d413-4838-82ee-566b8c7e1da0",
   "metadata": {},
   "outputs": [],
   "source": [
    "a=2                                        "
   ]
  },
  {
   "cell_type": "code",
   "execution_count": 14,
   "id": "6bcb0c75-6ebb-496e-be7e-2cb583170e48",
   "metadata": {},
   "outputs": [
    {
     "data": {
      "text/plain": [
       "2"
      ]
     },
     "execution_count": 14,
     "metadata": {},
     "output_type": "execute_result"
    }
   ],
   "source": [
    "a"
   ]
  },
  {
   "cell_type": "code",
   "execution_count": 15,
   "id": "af810989-e9f1-453a-b12f-808c5f6e68de",
   "metadata": {},
   "outputs": [],
   "source": [
    "tomas=3"
   ]
  },
  {
   "cell_type": "code",
   "execution_count": 16,
   "id": "42013bce-2417-4228-82fc-a50e89ce07b4",
   "metadata": {},
   "outputs": [
    {
     "data": {
      "text/plain": [
       "5"
      ]
     },
     "execution_count": 16,
     "metadata": {},
     "output_type": "execute_result"
    }
   ],
   "source": [
    "a+tomas"
   ]
  },
  {
   "cell_type": "code",
   "execution_count": 17,
   "id": "12150860-c03c-49af-87bc-bbdf5526366a",
   "metadata": {
    "tags": []
   },
   "outputs": [
    {
     "data": {
      "text/plain": [
       "int"
      ]
     },
     "execution_count": 17,
     "metadata": {},
     "output_type": "execute_result"
    }
   ],
   "source": [
    "type(a)"
   ]
  },
  {
   "cell_type": "code",
   "execution_count": 18,
   "id": "07b3ce54-4e1b-49d8-a5e7-f2a8366edf61",
   "metadata": {},
   "outputs": [
    {
     "data": {
      "text/plain": [
       "int"
      ]
     },
     "execution_count": 18,
     "metadata": {},
     "output_type": "execute_result"
    }
   ],
   "source": [
    "type(tomas)"
   ]
  },
  {
   "cell_type": "code",
   "execution_count": null,
   "id": "2002f8bb-6403-45ef-a2c8-425a65a58c04",
   "metadata": {},
   "outputs": [],
   "source": []
  },
  {
   "cell_type": "code",
   "execution_count": null,
   "id": "33d64f0f-1d8d-4dc9-b22f-81d5755168fb",
   "metadata": {},
   "outputs": [],
   "source": []
  },
  {
   "cell_type": "code",
   "execution_count": null,
   "id": "9e90cbbd-887c-4e54-a2fe-14646ff2bc04",
   "metadata": {},
   "outputs": [],
   "source": [
    "                                      #variable is float"
   ]
  },
  {
   "cell_type": "code",
   "execution_count": 19,
   "id": "099edeec-0146-478d-8087-c710ec1ca33c",
   "metadata": {},
   "outputs": [],
   "source": [
    "b=2.09                                      "
   ]
  },
  {
   "cell_type": "code",
   "execution_count": 20,
   "id": "10d8b9b8-86e6-4708-a594-d54fc51d1ad3",
   "metadata": {},
   "outputs": [
    {
     "data": {
      "text/plain": [
       "float"
      ]
     },
     "execution_count": 20,
     "metadata": {},
     "output_type": "execute_result"
    }
   ],
   "source": [
    "type(b)"
   ]
  },
  {
   "cell_type": "code",
   "execution_count": 9,
   "id": "6cfbd51d-9665-4a64-9701-d569ecc63d70",
   "metadata": {},
   "outputs": [],
   "source": [
    "sia=3.2"
   ]
  },
  {
   "cell_type": "code",
   "execution_count": 10,
   "id": "30b11aac-92bc-4cd7-a950-bf00e85d7b63",
   "metadata": {},
   "outputs": [
    {
     "data": {
      "text/plain": [
       "float"
      ]
     },
     "execution_count": 10,
     "metadata": {},
     "output_type": "execute_result"
    }
   ],
   "source": [
    "type(sia)"
   ]
  },
  {
   "cell_type": "code",
   "execution_count": null,
   "id": "355c388f-0612-4363-bcc1-92c8c5388ac3",
   "metadata": {},
   "outputs": [],
   "source": []
  },
  {
   "cell_type": "code",
   "execution_count": null,
   "id": "178af4bd-bbf3-4263-8ff9-00625ac2c965",
   "metadata": {},
   "outputs": [],
   "source": []
  },
  {
   "cell_type": "code",
   "execution_count": null,
   "id": "e7d91641-bcd8-4382-825d-11496d3ed830",
   "metadata": {},
   "outputs": [],
   "source": [
    "                                 #variable is string"
   ]
  },
  {
   "cell_type": "code",
   "execution_count": 11,
   "id": "d5aa4ab2-477a-4db7-8e41-d4037deb291f",
   "metadata": {},
   "outputs": [],
   "source": [
    "d=\"tomas\"                                   "
   ]
  },
  {
   "cell_type": "code",
   "execution_count": 12,
   "id": "2206f85a-400d-4a6e-92bf-efd63b0502f7",
   "metadata": {},
   "outputs": [
    {
     "data": {
      "text/plain": [
       "str"
      ]
     },
     "execution_count": 12,
     "metadata": {},
     "output_type": "execute_result"
    }
   ],
   "source": [
    "type(d)"
   ]
  },
  {
   "cell_type": "code",
   "execution_count": null,
   "id": "73c290b7-c7ce-4030-bddb-5caa2bb3fd6c",
   "metadata": {},
   "outputs": [],
   "source": []
  },
  {
   "cell_type": "code",
   "execution_count": null,
   "id": "7bfb24e7-82ed-498f-886e-d43e1935ea0d",
   "metadata": {},
   "outputs": [],
   "source": []
  },
  {
   "cell_type": "code",
   "execution_count": null,
   "id": "7018c91d-cd0d-42b5-99f7-d35da4f8277e",
   "metadata": {},
   "outputs": [],
   "source": [
    "                                  #variable is bool"
   ]
  },
  {
   "cell_type": "code",
   "execution_count": 31,
   "id": "b99ea8a2-61c2-446e-b7dc-5dcd7bf90b98",
   "metadata": {},
   "outputs": [],
   "source": [
    "n=True  #true=1 in comp. lang. always      "
   ]
  },
  {
   "cell_type": "code",
   "execution_count": 22,
   "id": "46f5d15a-06d1-48b3-bf65-176592dc5732",
   "metadata": {},
   "outputs": [
    {
     "data": {
      "text/plain": [
       "bool"
      ]
     },
     "execution_count": 22,
     "metadata": {},
     "output_type": "execute_result"
    }
   ],
   "source": [
    "type(n)"
   ]
  },
  {
   "cell_type": "code",
   "execution_count": 23,
   "id": "600c04a5-ddc2-4d47-9ee0-35b207b1fb1c",
   "metadata": {},
   "outputs": [],
   "source": [
    "m=False  #false=0 in comp. lang. alwasys"
   ]
  },
  {
   "cell_type": "code",
   "execution_count": 24,
   "id": "292ca2ce-29e5-4fd9-a520-4e9b02f98017",
   "metadata": {},
   "outputs": [
    {
     "data": {
      "text/plain": [
       "bool"
      ]
     },
     "execution_count": 24,
     "metadata": {},
     "output_type": "execute_result"
    }
   ],
   "source": [
    "type(m)"
   ]
  },
  {
   "cell_type": "code",
   "execution_count": 25,
   "id": "56b7ba4b-9992-4d2f-aad3-0505d9cc5163",
   "metadata": {},
   "outputs": [
    {
     "data": {
      "text/plain": [
       "1"
      ]
     },
     "execution_count": 25,
     "metadata": {},
     "output_type": "execute_result"
    }
   ],
   "source": [
    "n+m"
   ]
  },
  {
   "cell_type": "code",
   "execution_count": 26,
   "id": "dbc1dda9-f292-418e-9929-821b9676521b",
   "metadata": {},
   "outputs": [
    {
     "data": {
      "text/plain": [
       "1"
      ]
     },
     "execution_count": 26,
     "metadata": {},
     "output_type": "execute_result"
    }
   ],
   "source": [
    "True*True"
   ]
  },
  {
   "cell_type": "code",
   "execution_count": 27,
   "id": "d5842ea7-0f19-4e3b-b75c-0d0954456336",
   "metadata": {},
   "outputs": [
    {
     "data": {
      "text/plain": [
       "0"
      ]
     },
     "execution_count": 27,
     "metadata": {},
     "output_type": "execute_result"
    }
   ],
   "source": [
    "True*False"
   ]
  },
  {
   "cell_type": "code",
   "execution_count": 28,
   "id": "f4c8a781-fe2b-4c3b-87c6-8f7024bc191f",
   "metadata": {},
   "outputs": [
    {
     "ename": "ZeroDivisionError",
     "evalue": "division by zero",
     "output_type": "error",
     "traceback": [
      "\u001b[0;31m---------------------------------------------------------------------------\u001b[0m",
      "\u001b[0;31mZeroDivisionError\u001b[0m                         Traceback (most recent call last)",
      "Cell \u001b[0;32mIn[28], line 1\u001b[0m\n\u001b[0;32m----> 1\u001b[0m \u001b[38;5;28;43;01mTrue\u001b[39;49;00m\u001b[38;5;241;43m/\u001b[39;49m\u001b[38;5;28;43;01mFalse\u001b[39;49;00m\n",
      "\u001b[0;31mZeroDivisionError\u001b[0m: division by zero"
     ]
    }
   ],
   "source": [
    "True/False   #i.e 1/0 hence error"
   ]
  },
  {
   "cell_type": "code",
   "execution_count": 30,
   "id": "7f0d0e1a-ec73-429c-a192-bf2f0dba247d",
   "metadata": {},
   "outputs": [
    {
     "data": {
      "text/plain": [
       "0.0"
      ]
     },
     "execution_count": 30,
     "metadata": {},
     "output_type": "execute_result"
    }
   ],
   "source": [
    "False/True   #i.e 0/1"
   ]
  },
  {
   "cell_type": "code",
   "execution_count": 32,
   "id": "19271935-3e31-4b29-b637-3333d33e2278",
   "metadata": {},
   "outputs": [
    {
     "ename": "ZeroDivisionError",
     "evalue": "division by zero",
     "output_type": "error",
     "traceback": [
      "\u001b[0;31m---------------------------------------------------------------------------\u001b[0m",
      "\u001b[0;31mZeroDivisionError\u001b[0m                         Traceback (most recent call last)",
      "Cell \u001b[0;32mIn[32], line 1\u001b[0m\n\u001b[0;32m----> 1\u001b[0m \u001b[38;5;241;43m1\u001b[39;49m\u001b[38;5;241;43m/\u001b[39;49m\u001b[38;5;241;43m0\u001b[39;49m\n",
      "\u001b[0;31mZeroDivisionError\u001b[0m: division by zero"
     ]
    }
   ],
   "source": [
    "1/0"
   ]
  },
  {
   "cell_type": "code",
   "execution_count": 33,
   "id": "952190c1-0bba-4d3a-8727-3da916ce8478",
   "metadata": {},
   "outputs": [
    {
     "data": {
      "text/plain": [
       "0.0"
      ]
     },
     "execution_count": 33,
     "metadata": {},
     "output_type": "execute_result"
    }
   ],
   "source": [
    "0/1"
   ]
  },
  {
   "cell_type": "code",
   "execution_count": null,
   "id": "a6fcb65a-e338-4654-9425-d38d1cf488c7",
   "metadata": {},
   "outputs": [],
   "source": []
  },
  {
   "cell_type": "code",
   "execution_count": null,
   "id": "26783f58-cb47-43d9-b6f3-5b0298e64b98",
   "metadata": {},
   "outputs": [],
   "source": []
  },
  {
   "cell_type": "code",
   "execution_count": null,
   "id": "00f5f798-0e6f-4a40-bdf1-65150794166d",
   "metadata": {},
   "outputs": [],
   "source": [
    "                   #########################variable is complex"
   ]
  },
  {
   "cell_type": "code",
   "execution_count": 36,
   "id": "c8b8760a-de4b-4b83-831c-7b356de0ec52",
   "metadata": {},
   "outputs": [],
   "source": [
    "v=8+6j                                       "
   ]
  },
  {
   "cell_type": "code",
   "execution_count": 35,
   "id": "b4a3580e-ba97-4ea8-94fd-2e77798dd22a",
   "metadata": {},
   "outputs": [
    {
     "data": {
      "text/plain": [
       "complex"
      ]
     },
     "execution_count": 35,
     "metadata": {},
     "output_type": "execute_result"
    }
   ],
   "source": [
    "type(v)    #shift and tab will give the function details,the signature,outcomes"
   ]
  },
  {
   "cell_type": "code",
   "execution_count": 39,
   "id": "f2392931-362a-4b2f-a917-ef3fb6cccbd2",
   "metadata": {},
   "outputs": [
    {
     "data": {
      "text/plain": [
       "8.0"
      ]
     },
     "execution_count": 39,
     "metadata": {},
     "output_type": "execute_result"
    }
   ],
   "source": [
    "v.real           #v. then tab will let us find our real or imaginary component "
   ]
  },
  {
   "cell_type": "code",
   "execution_count": 38,
   "id": "3700668f-5a51-4e5c-9a2e-1f46717d7fbc",
   "metadata": {},
   "outputs": [
    {
     "data": {
      "text/plain": [
       "6.0"
      ]
     },
     "execution_count": 38,
     "metadata": {},
     "output_type": "execute_result"
    }
   ],
   "source": [
    "v.imag"
   ]
  },
  {
   "cell_type": "code",
   "execution_count": 42,
   "id": "3b3db8f7-fdfa-4257-9608-c55820a31ea5",
   "metadata": {},
   "outputs": [
    {
     "name": "stdout",
     "output_type": "stream",
     "text": [
      "(8+6j)\n"
     ]
    }
   ],
   "source": [
    "print(v)    #print is function that print the variable under console as a output"
   ]
  },
  {
   "cell_type": "code",
   "execution_count": null,
   "id": "5208d46b-9111-4b26-b592-70192afa9d75",
   "metadata": {},
   "outputs": [],
   "source": []
  },
  {
   "cell_type": "code",
   "execution_count": null,
   "id": "e001efcd-762a-446a-8f68-36364062a04f",
   "metadata": {},
   "outputs": [],
   "source": []
  },
  {
   "cell_type": "code",
   "execution_count": null,
   "id": "162471c7-5dd2-497a-a2d3-30b54d48e70d",
   "metadata": {},
   "outputs": [],
   "source": [
    "        #strings in variable having indexing that numbers it from 0 in forward"
   ]
  },
  {
   "cell_type": "code",
   "execution_count": 44,
   "id": "05d355d4-95be-4520-9873-1bd1ce2b008d",
   "metadata": {},
   "outputs": [],
   "source": [
    "                    #to see the letter in a string using indexing "
   ]
  },
  {
   "cell_type": "code",
   "execution_count": 45,
   "id": "9ebcccbe-96ed-4b3a-a073-05d369269464",
   "metadata": {},
   "outputs": [],
   "source": [
    "s=\"pwskills\"    #forward indexing is from 0,1... #backward indexinf is from -1,-2,....."
   ]
  },
  {
   "cell_type": "code",
   "execution_count": 49,
   "id": "5b77d6a1-86d4-4132-aa9b-3b8eb833fab2",
   "metadata": {},
   "outputs": [
    {
     "data": {
      "text/plain": [
       "'w'"
      ]
     },
     "execution_count": 49,
     "metadata": {},
     "output_type": "execute_result"
    }
   ],
   "source": [
    "s[1]   #forward indexing"
   ]
  },
  {
   "cell_type": "code",
   "execution_count": 50,
   "id": "81cb826c-d8f7-4273-90bf-80ae39a3ec0c",
   "metadata": {},
   "outputs": [
    {
     "data": {
      "text/plain": [
       "'p'"
      ]
     },
     "execution_count": 50,
     "metadata": {},
     "output_type": "execute_result"
    }
   ],
   "source": [
    "s[0]"
   ]
  },
  {
   "cell_type": "code",
   "execution_count": 51,
   "id": "1e5f8f25-386c-4105-b8a0-2845dc851be8",
   "metadata": {},
   "outputs": [
    {
     "data": {
      "text/plain": [
       "'l'"
      ]
     },
     "execution_count": 51,
     "metadata": {},
     "output_type": "execute_result"
    }
   ],
   "source": [
    "s[6]"
   ]
  },
  {
   "cell_type": "code",
   "execution_count": 52,
   "id": "97cb32a8-a08e-481a-8933-7eca0e364fda",
   "metadata": {},
   "outputs": [
    {
     "data": {
      "text/plain": [
       "'s'"
      ]
     },
     "execution_count": 52,
     "metadata": {},
     "output_type": "execute_result"
    }
   ],
   "source": [
    "s[-1]  #backward indexing"
   ]
  },
  {
   "cell_type": "code",
   "execution_count": 53,
   "id": "0112465b-2b5c-4ac2-bd1f-6e351b8aa84e",
   "metadata": {},
   "outputs": [
    {
     "data": {
      "text/plain": [
       "'i'"
      ]
     },
     "execution_count": 53,
     "metadata": {},
     "output_type": "execute_result"
    }
   ],
   "source": [
    "s[-4]"
   ]
  },
  {
   "cell_type": "code",
   "execution_count": 54,
   "id": "c2fab4d8-5537-41e9-9b73-9ebccbd496f7",
   "metadata": {},
   "outputs": [],
   "source": [
    "      #slicing string to cut out a piece of strings from the string #output=upper bound-1"
   ]
  },
  {
   "cell_type": "code",
   "execution_count": 16,
   "id": "ff589260-a7cc-4f90-9150-d873311dda6c",
   "metadata": {},
   "outputs": [
    {
     "data": {
      "text/plain": [
       "'pws'"
      ]
     },
     "execution_count": 16,
     "metadata": {},
     "output_type": "execute_result"
    }
   ],
   "source": [
    "s[0:3]    #here upper bound=3 so output=2 so ie 0,1,2 is pws"
   ]
  },
  {
   "cell_type": "code",
   "execution_count": 17,
   "id": "9adb3fd7-f882-43be-b88f-dc5fa8532ae4",
   "metadata": {},
   "outputs": [
    {
     "data": {
      "text/plain": [
       "''"
      ]
     },
     "execution_count": 17,
     "metadata": {},
     "output_type": "execute_result"
    }
   ],
   "source": [
    "s[3:0]      #empty since we are going from 3 to 0 ie -ve but jumping 1 ie +ve so conflict"
   ]
  },
  {
   "cell_type": "code",
   "execution_count": 18,
   "id": "677f7b08-d3e7-4d65-80e5-2fd3dc3f31f1",
   "metadata": {},
   "outputs": [
    {
     "data": {
      "text/plain": [
       "'ksw'"
      ]
     },
     "execution_count": 18,
     "metadata": {},
     "output_type": "execute_result"
    }
   ],
   "source": [
    "s[3:0:-1]"
   ]
  },
  {
   "cell_type": "code",
   "execution_count": 15,
   "id": "2d9b362b-a97c-492d-b3fc-5a459e75ee35",
   "metadata": {},
   "outputs": [
    {
     "data": {
      "text/plain": [
       "'ski'"
      ]
     },
     "execution_count": 15,
     "metadata": {},
     "output_type": "execute_result"
    }
   ],
   "source": [
    "s[2:5]"
   ]
  },
  {
   "cell_type": "code",
   "execution_count": 62,
   "id": "95a8fe1a-cb70-459e-a0b4-8b6b496ad17d",
   "metadata": {},
   "outputs": [
    {
     "data": {
      "text/plain": [
       "'ki'"
      ]
     },
     "execution_count": 62,
     "metadata": {},
     "output_type": "execute_result"
    }
   ],
   "source": [
    "s[-5:-3]    #start from greater bound only"
   ]
  },
  {
   "cell_type": "code",
   "execution_count": 63,
   "id": "1ed39e8d-223d-4a36-9665-d383ab42137a",
   "metadata": {},
   "outputs": [],
   "source": [
    "   #using 3rd parameter for jump slice in a string"
   ]
  },
  {
   "cell_type": "code",
   "execution_count": 64,
   "id": "c39d1b4b-0bf9-46f3-838d-2e0a7363cbdd",
   "metadata": {},
   "outputs": [
    {
     "data": {
      "text/plain": [
       "'psi'"
      ]
     },
     "execution_count": 64,
     "metadata": {},
     "output_type": "execute_result"
    }
   ],
   "source": [
    "s[0:6:2]    #gap is 2 from 0 to 6"
   ]
  },
  {
   "cell_type": "code",
   "execution_count": 1,
   "id": "dca07259-adad-47b9-afd9-e90041843ed0",
   "metadata": {},
   "outputs": [],
   "source": [
    "s=\"pwskills\""
   ]
  },
  {
   "cell_type": "code",
   "execution_count": 2,
   "id": "aa9c97fd-af82-49bc-b6ad-361db3d51658",
   "metadata": {},
   "outputs": [
    {
     "data": {
      "text/plain": [
       "'pwskil'"
      ]
     },
     "execution_count": 2,
     "metadata": {},
     "output_type": "execute_result"
    }
   ],
   "source": [
    "s[0:6:1]   #1gap is normal for all slices"
   ]
  },
  {
   "cell_type": "code",
   "execution_count": 5,
   "id": "cc196da5-2316-47a6-a6cc-106931719aa7",
   "metadata": {},
   "outputs": [
    {
     "data": {
      "text/plain": [
       "'psil'"
      ]
     },
     "execution_count": 5,
     "metadata": {},
     "output_type": "execute_result"
    }
   ],
   "source": [
    "s[::2]  #from the beginninf 2 gap is counted"
   ]
  },
  {
   "cell_type": "code",
   "execution_count": 7,
   "id": "d98c93ad-781b-4da2-a62d-78b338feab6d",
   "metadata": {},
   "outputs": [
    {
     "ename": "ValueError",
     "evalue": "slice step cannot be zero",
     "output_type": "error",
     "traceback": [
      "\u001b[0;31m---------------------------------------------------------------------------\u001b[0m",
      "\u001b[0;31mValueError\u001b[0m                                Traceback (most recent call last)",
      "Cell \u001b[0;32mIn[7], line 1\u001b[0m\n\u001b[0;32m----> 1\u001b[0m \u001b[43ms\u001b[49m\u001b[43m[\u001b[49m\u001b[38;5;241;43m1\u001b[39;49m\u001b[43m:\u001b[49m\u001b[38;5;241;43m4\u001b[39;49m\u001b[43m:\u001b[49m\u001b[38;5;241;43m0\u001b[39;49m\u001b[43m]\u001b[49m     \u001b[38;5;66;03m#0 gap is not possible \u001b[39;00m\n",
      "\u001b[0;31mValueError\u001b[0m: slice step cannot be zero"
     ]
    }
   ],
   "source": [
    "s[1:4:0]     #0 gap is not possible "
   ]
  },
  {
   "cell_type": "code",
   "execution_count": 8,
   "id": "cd498f69-d846-42a8-9509-f25576dd9175",
   "metadata": {},
   "outputs": [
    {
     "data": {
      "text/plain": [
       "'psil'"
      ]
     },
     "execution_count": 8,
     "metadata": {},
     "output_type": "execute_result"
    }
   ],
   "source": [
    "s[::2]"
   ]
  },
  {
   "cell_type": "code",
   "execution_count": 10,
   "id": "de9396e8-1a15-4465-93c7-80ed554f0c6d",
   "metadata": {},
   "outputs": [
    {
     "data": {
      "text/plain": [
       "'sllikswp'"
      ]
     },
     "execution_count": 10,
     "metadata": {},
     "output_type": "execute_result"
    }
   ],
   "source": [
    "s[::-1]     #in the reverse direction of pwskills"
   ]
  },
  {
   "cell_type": "code",
   "execution_count": 19,
   "id": "c2b13112-4154-4248-80f6-187c3c9334d1",
   "metadata": {},
   "outputs": [
    {
     "data": {
      "text/plain": [
       "''"
      ]
     },
     "execution_count": 19,
     "metadata": {},
     "output_type": "execute_result"
    }
   ],
   "source": [
    "s[-2:-8:1]"
   ]
  },
  {
   "cell_type": "code",
   "execution_count": 21,
   "id": "dc86ef24-5f06-4c88-b1f1-94410dbec123",
   "metadata": {},
   "outputs": [
    {
     "data": {
      "text/plain": [
       "'lliksw'"
      ]
     },
     "execution_count": 21,
     "metadata": {},
     "output_type": "execute_result"
    }
   ],
   "source": [
    "s[-2:-8:-1]"
   ]
  },
  {
   "cell_type": "code",
   "execution_count": 22,
   "id": "fd30353f-72e4-472a-8461-6bdafb15b9ce",
   "metadata": {},
   "outputs": [
    {
     "data": {
      "text/plain": [
       "'llikswp'"
      ]
     },
     "execution_count": 22,
     "metadata": {},
     "output_type": "execute_result"
    }
   ],
   "source": [
    "s[-2::-1]"
   ]
  },
  {
   "cell_type": "code",
   "execution_count": 23,
   "id": "178f81ef-57e2-4dfe-81c2-c277e6573222",
   "metadata": {},
   "outputs": [
    {
     "ename": "IndexError",
     "evalue": "string index out of range",
     "output_type": "error",
     "traceback": [
      "\u001b[0;31m---------------------------------------------------------------------------\u001b[0m",
      "\u001b[0;31mIndexError\u001b[0m                                Traceback (most recent call last)",
      "Cell \u001b[0;32mIn[23], line 1\u001b[0m\n\u001b[0;32m----> 1\u001b[0m \u001b[43ms\u001b[49m\u001b[43m[\u001b[49m\u001b[38;5;241;43m90\u001b[39;49m\u001b[43m]\u001b[49m\n",
      "\u001b[0;31mIndexError\u001b[0m: string index out of range"
     ]
    }
   ],
   "source": [
    "s[90]"
   ]
  },
  {
   "cell_type": "code",
   "execution_count": 25,
   "id": "72ffd42d-8701-4135-9d5c-09392505efaa",
   "metadata": {},
   "outputs": [
    {
     "data": {
      "text/plain": [
       "'pwskills'"
      ]
     },
     "execution_count": 25,
     "metadata": {},
     "output_type": "execute_result"
    }
   ],
   "source": [
    "s[:9000:1]"
   ]
  },
  {
   "cell_type": "code",
   "execution_count": 26,
   "id": "9068604b-ba1e-4969-bb4f-6723c6499cda",
   "metadata": {},
   "outputs": [
    {
     "data": {
      "text/plain": [
       "'sllikswp'"
      ]
     },
     "execution_count": 26,
     "metadata": {},
     "output_type": "execute_result"
    }
   ],
   "source": [
    "s[:-3000:-1]"
   ]
  },
  {
   "cell_type": "code",
   "execution_count": null,
   "id": "a9b1cea3-6b2e-41fc-921e-e4d81ee099ea",
   "metadata": {},
   "outputs": [],
   "source": []
  },
  {
   "cell_type": "code",
   "execution_count": 9,
   "id": "bae1201d-8a3a-4f57-a789-9226afae9ed1",
   "metadata": {},
   "outputs": [],
   "source": [
    "t=200 #in this variable we cant find each ones like above for that we have to convert this integer into string"
   ]
  },
  {
   "cell_type": "code",
   "execution_count": 10,
   "id": "37738d6b-5aac-47fc-a382-ef988b0794cb",
   "metadata": {},
   "outputs": [],
   "source": [
    "     # len function"
   ]
  },
  {
   "cell_type": "code",
   "execution_count": 28,
   "id": "6df36b87-32fc-4987-b438-cbeda5c8427e",
   "metadata": {},
   "outputs": [],
   "source": [
    "s1=\"this is my string class\""
   ]
  },
  {
   "cell_type": "code",
   "execution_count": 30,
   "id": "cd65bff2-8f9b-4ad7-a5bf-e798178e79e7",
   "metadata": {},
   "outputs": [
    {
     "data": {
      "text/plain": [
       "23"
      ]
     },
     "execution_count": 30,
     "metadata": {},
     "output_type": "execute_result"
    }
   ],
   "source": [
    "len(s1)        #using len function we found the space taking by the variable"
   ]
  },
  {
   "cell_type": "code",
   "execution_count": 12,
   "id": "f20e4e5e-ffda-4f19-9d25-6abb1f12e687",
   "metadata": {},
   "outputs": [],
   "source": [
    "    #to see whether my needy is present in the variable or not and to find his index\n",
    "    #find function"
   ]
  },
  {
   "cell_type": "code",
   "execution_count": 32,
   "id": "f350728a-7786-45b3-8982-2d87edd8f0c9",
   "metadata": {},
   "outputs": [
    {
     "data": {
      "text/plain": [
       "3"
      ]
     },
     "execution_count": 32,
     "metadata": {},
     "output_type": "execute_result"
    }
   ],
   "source": [
    "s1.find(\"s\")"
   ]
  },
  {
   "cell_type": "code",
   "execution_count": 33,
   "id": "14e0b4ba-5c62-4cfd-8697-6f216a7bbae3",
   "metadata": {},
   "outputs": [
    {
     "data": {
      "text/plain": [
       "2"
      ]
     },
     "execution_count": 33,
     "metadata": {},
     "output_type": "execute_result"
    }
   ],
   "source": [
    "s1.find(\"i\")"
   ]
  },
  {
   "cell_type": "code",
   "execution_count": 2,
   "id": "169d3145-c536-45f1-8fef-27d0e2594059",
   "metadata": {},
   "outputs": [],
   "source": [
    "s1=\"this is my string class\" "
   ]
  },
  {
   "cell_type": "code",
   "execution_count": 6,
   "id": "b60d007b-c87b-4404-8797-579d9b1216f2",
   "metadata": {},
   "outputs": [
    {
     "data": {
      "text/plain": [
       "-1"
      ]
     },
     "execution_count": 6,
     "metadata": {},
     "output_type": "execute_result"
    }
   ],
   "source": [
    "s1.find(\"iS\")   #since S is capital not present in s1 so for these type always -1"
   ]
  },
  {
   "cell_type": "code",
   "execution_count": 13,
   "id": "f5246ccb-64ad-48d9-adc4-841db9b2a7b1",
   "metadata": {},
   "outputs": [],
   "source": [
    "    #count function"
   ]
  },
  {
   "cell_type": "code",
   "execution_count": 14,
   "id": "a922d81e-532f-450f-a803-962b05a56c30",
   "metadata": {},
   "outputs": [],
   "source": [
    "#count the letter present in the variable"
   ]
  },
  {
   "cell_type": "code",
   "execution_count": 7,
   "id": "764d11e9-06c5-4ffd-ba01-2526c5da206b",
   "metadata": {},
   "outputs": [
    {
     "data": {
      "text/plain": [
       "5"
      ]
     },
     "execution_count": 7,
     "metadata": {},
     "output_type": "execute_result"
    }
   ],
   "source": [
    "s1.count(\"s\")"
   ]
  },
  {
   "cell_type": "code",
   "execution_count": 15,
   "id": "bae3b573-34f4-421b-8b22-0415f9d9e3ba",
   "metadata": {},
   "outputs": [
    {
     "data": {
      "text/plain": [
       "1"
      ]
     },
     "execution_count": 15,
     "metadata": {},
     "output_type": "execute_result"
    }
   ],
   "source": [
    "s1.count(\"st\")"
   ]
  },
  {
   "cell_type": "code",
   "execution_count": 16,
   "id": "f5843309-6fa2-4042-ae88-e964ff2b0a12",
   "metadata": {},
   "outputs": [
    {
     "data": {
      "text/plain": [
       "0"
      ]
     },
     "execution_count": 16,
     "metadata": {},
     "output_type": "execute_result"
    }
   ],
   "source": [
    "s1.count(\"z\")"
   ]
  },
  {
   "cell_type": "code",
   "execution_count": 22,
   "id": "6b2613de-98e4-41f6-903f-25811f2503b4",
   "metadata": {},
   "outputs": [],
   "source": [
    "   #upper function (uppers all small letters)"
   ]
  },
  {
   "cell_type": "code",
   "execution_count": 18,
   "id": "6fa3bca0-242a-44bf-b04a-832995cc5b11",
   "metadata": {},
   "outputs": [
    {
     "data": {
      "text/plain": [
       "'THIS IS MY STRING CLASS'"
      ]
     },
     "execution_count": 18,
     "metadata": {},
     "output_type": "execute_result"
    }
   ],
   "source": [
    "s1.upper()"
   ]
  },
  {
   "cell_type": "code",
   "execution_count": 21,
   "id": "5c74387a-aba2-46c1-a570-70a98f350dbc",
   "metadata": {},
   "outputs": [],
   "source": [
    "   #lower function(lowers all capital letters)"
   ]
  },
  {
   "cell_type": "code",
   "execution_count": 19,
   "id": "51d3a30f-5043-4bb8-a947-0e60b90c71c4",
   "metadata": {},
   "outputs": [],
   "source": [
    "s2=\"THIS IS MY STRING CLASS\""
   ]
  },
  {
   "cell_type": "code",
   "execution_count": 20,
   "id": "b062ff0c-d18e-4d14-928b-f9c7b9cbc37b",
   "metadata": {},
   "outputs": [
    {
     "data": {
      "text/plain": [
       "'this is my string class'"
      ]
     },
     "execution_count": 20,
     "metadata": {},
     "output_type": "execute_result"
    }
   ],
   "source": [
    "s2.lower()"
   ]
  },
  {
   "cell_type": "code",
   "execution_count": 23,
   "id": "37c89332-1cce-472f-a7d0-f65296d0e731",
   "metadata": {},
   "outputs": [],
   "source": [
    "   #title function (capitals all the first letters of the sentence)"
   ]
  },
  {
   "cell_type": "code",
   "execution_count": 24,
   "id": "9aaa99cf-8546-4bc7-829d-1da504d4264f",
   "metadata": {},
   "outputs": [
    {
     "data": {
      "text/plain": [
       "'This Is My String Class'"
      ]
     },
     "execution_count": 24,
     "metadata": {},
     "output_type": "execute_result"
    }
   ],
   "source": [
    "s1.title()"
   ]
  },
  {
   "cell_type": "code",
   "execution_count": 25,
   "id": "6a062926-da45-432c-8d6c-a38667a7a9e2",
   "metadata": {},
   "outputs": [],
   "source": [
    "   #capitalize function (capitalize the first letter only in the sentence)"
   ]
  },
  {
   "cell_type": "code",
   "execution_count": 26,
   "id": "cdcd55db-bbbe-492d-9fb9-d60a56fc670f",
   "metadata": {},
   "outputs": [
    {
     "data": {
      "text/plain": [
       "'This is my string class'"
      ]
     },
     "execution_count": 26,
     "metadata": {},
     "output_type": "execute_result"
    }
   ],
   "source": [
    "s1.capitalize()"
   ]
  },
  {
   "cell_type": "code",
   "execution_count": null,
   "id": "30252a7e-ee9d-4166-9156-b949eab63437",
   "metadata": {},
   "outputs": [],
   "source": []
  },
  {
   "cell_type": "code",
   "execution_count": null,
   "id": "6a9bc32c-17cd-4a42-8e0b-6394f628604b",
   "metadata": {},
   "outputs": [],
   "source": []
  },
  {
   "cell_type": "code",
   "execution_count": 27,
   "id": "ec54bc9f-360e-41b3-80da-359ec4417fc9",
   "metadata": {},
   "outputs": [
    {
     "ename": "TypeError",
     "evalue": "can only concatenate str (not \"int\") to str",
     "output_type": "error",
     "traceback": [
      "\u001b[0;31m---------------------------------------------------------------------------\u001b[0m",
      "\u001b[0;31mTypeError\u001b[0m                                 Traceback (most recent call last)",
      "Cell \u001b[0;32mIn[27], line 1\u001b[0m\n\u001b[0;32m----> 1\u001b[0m \u001b[43ms1\u001b[49m\u001b[38;5;241;43m+\u001b[39;49m\u001b[38;5;241;43m1\u001b[39;49m\n",
      "\u001b[0;31mTypeError\u001b[0m: can only concatenate str (not \"int\") to str"
     ]
    }
   ],
   "source": [
    "s1+1"
   ]
  },
  {
   "cell_type": "code",
   "execution_count": 28,
   "id": "e6d62c7d-dd8f-42e3-b6e1-3c86192e37ea",
   "metadata": {},
   "outputs": [
    {
     "data": {
      "text/plain": [
       "'this is my string class1'"
      ]
     },
     "execution_count": 28,
     "metadata": {},
     "output_type": "execute_result"
    }
   ],
   "source": [
    "s1+\"1\""
   ]
  },
  {
   "cell_type": "code",
   "execution_count": 31,
   "id": "f6974494-4d77-489c-bbbb-4ab86bf591fc",
   "metadata": {},
   "outputs": [
    {
     "data": {
      "text/plain": [
       "'this is my string class1'"
      ]
     },
     "execution_count": 31,
     "metadata": {},
     "output_type": "execute_result"
    }
   ],
   "source": [
    "s1+str(1)"
   ]
  },
  {
   "cell_type": "code",
   "execution_count": 29,
   "id": "72f2cbca-beb6-42a0-853a-3bbf90542601",
   "metadata": {},
   "outputs": [
    {
     "data": {
      "text/plain": [
       "'this is my string class sexy'"
      ]
     },
     "execution_count": 29,
     "metadata": {},
     "output_type": "execute_result"
    }
   ],
   "source": [
    "s1+\" sexy\""
   ]
  },
  {
   "cell_type": "code",
   "execution_count": 30,
   "id": "0740633b-c318-4ea5-b000-b4b071914b51",
   "metadata": {},
   "outputs": [
    {
     "ename": "NameError",
     "evalue": "name 'sexy' is not defined",
     "output_type": "error",
     "traceback": [
      "\u001b[0;31m---------------------------------------------------------------------------\u001b[0m",
      "\u001b[0;31mNameError\u001b[0m                                 Traceback (most recent call last)",
      "Cell \u001b[0;32mIn[30], line 1\u001b[0m\n\u001b[0;32m----> 1\u001b[0m s1\u001b[38;5;241m+\u001b[39m\u001b[43msexy\u001b[49m\n",
      "\u001b[0;31mNameError\u001b[0m: name 'sexy' is not defined"
     ]
    }
   ],
   "source": [
    "s1+sexy"
   ]
  },
  {
   "cell_type": "code",
   "execution_count": null,
   "id": "48a896da-d21a-4863-96d9-d1fe8f6661eb",
   "metadata": {},
   "outputs": [],
   "source": []
  },
  {
   "cell_type": "code",
   "execution_count": null,
   "id": "1b586565-4922-4419-983e-d45a23eba991",
   "metadata": {},
   "outputs": [],
   "source": []
  },
  {
   "cell_type": "code",
   "execution_count": 32,
   "id": "b0d9ed3b-465b-4ff5-813a-f3dd876adcf3",
   "metadata": {},
   "outputs": [],
   "source": [
    "a=\"tomas\""
   ]
  },
  {
   "cell_type": "code",
   "execution_count": 33,
   "id": "b54ab965-7ef9-47a7-8ef7-be3a3645c827",
   "metadata": {},
   "outputs": [
    {
     "data": {
      "text/plain": [
       "'tomastomastomas'"
      ]
     },
     "execution_count": 33,
     "metadata": {},
     "output_type": "execute_result"
    }
   ],
   "source": [
    "a*3"
   ]
  },
  {
   "cell_type": "code",
   "execution_count": 34,
   "id": "468fb4c4-b8e5-4331-966b-1609d1371b24",
   "metadata": {},
   "outputs": [
    {
     "ename": "TypeError",
     "evalue": "unsupported operand type(s) for /: 'str' and 'int'",
     "output_type": "error",
     "traceback": [
      "\u001b[0;31m---------------------------------------------------------------------------\u001b[0m",
      "\u001b[0;31mTypeError\u001b[0m                                 Traceback (most recent call last)",
      "Cell \u001b[0;32mIn[34], line 1\u001b[0m\n\u001b[0;32m----> 1\u001b[0m \u001b[43ma\u001b[49m\u001b[38;5;241;43m/\u001b[39;49m\u001b[38;5;241;43m3\u001b[39;49m\n",
      "\u001b[0;31mTypeError\u001b[0m: unsupported operand type(s) for /: 'str' and 'int'"
     ]
    }
   ],
   "source": [
    "a/3"
   ]
  },
  {
   "cell_type": "code",
   "execution_count": null,
   "id": "9cbdd687-53d6-42ba-83bc-51466aede889",
   "metadata": {},
   "outputs": [],
   "source": []
  },
  {
   "cell_type": "code",
   "execution_count": null,
   "id": "1bf4e549-9efd-49ac-b34b-26ca6c01e4b2",
   "metadata": {},
   "outputs": [],
   "source": []
  },
  {
   "cell_type": "code",
   "execution_count": null,
   "id": "a5fc2f47-282a-4728-8d9a-37610a8c9859",
   "metadata": {},
   "outputs": [],
   "source": []
  },
  {
   "cell_type": "code",
   "execution_count": 35,
   "id": "d284d80b-75da-4cfd-928f-269d96f73688",
   "metadata": {},
   "outputs": [
    {
     "ename": "SyntaxError",
     "evalue": "unterminated string literal (detected at line 1) (3819220668.py, line 1)",
     "output_type": "error",
     "traceback": [
      "\u001b[0;36m  Cell \u001b[0;32mIn[35], line 1\u001b[0;36m\u001b[0m\n\u001b[0;31m    'don't do copy and paste'\u001b[0m\n\u001b[0m                            ^\u001b[0m\n\u001b[0;31mSyntaxError\u001b[0m\u001b[0;31m:\u001b[0m unterminated string literal (detected at line 1)\n"
     ]
    }
   ],
   "source": [
    "'don't do copy and paste'"
   ]
  },
  {
   "cell_type": "code",
   "execution_count": 36,
   "id": "a941c2b2-f63b-40b8-a5cb-de6cbf807a25",
   "metadata": {},
   "outputs": [
    {
     "data": {
      "text/plain": [
       "\"don't do copy and paste\""
      ]
     },
     "execution_count": 36,
     "metadata": {},
     "output_type": "execute_result"
    }
   ],
   "source": [
    "\"don't do copy and paste\""
   ]
  },
  {
   "cell_type": "code",
   "execution_count": null,
   "id": "a75fb9a4-a1d3-49da-a03c-1bd007a61cf9",
   "metadata": {},
   "outputs": [],
   "source": []
  },
  {
   "cell_type": "code",
   "execution_count": null,
   "id": "67d67852-f071-4dd4-a1d4-78e3ae9eaa34",
   "metadata": {},
   "outputs": [],
   "source": [
    "\n"
   ]
  },
  {
   "cell_type": "code",
   "execution_count": 1,
   "id": "5d0e17a2-6d75-49c1-a2ce-141fac084e20",
   "metadata": {},
   "outputs": [],
   "source": [
    "             #list (that contains all things, for eg. pri. data types,list,tuples....)"
   ]
  },
  {
   "cell_type": "code",
   "execution_count": 2,
   "id": "9f30e8ba-115e-471b-88b9-57b69fe5375a",
   "metadata": {},
   "outputs": [],
   "source": [
    "l=[1,2,3.8,\"tomas\",True,False,5+7j]"
   ]
  },
  {
   "cell_type": "code",
   "execution_count": 46,
   "id": "661c4b9a-8f81-4001-9922-bfe962fb2762",
   "metadata": {},
   "outputs": [],
   "source": [
    "    #we can do indexing and slicing both in a list"
   ]
  },
  {
   "cell_type": "code",
   "execution_count": 4,
   "id": "1c8e70ea-84d4-43a0-bba1-4a11b535a106",
   "metadata": {},
   "outputs": [
    {
     "data": {
      "text/plain": [
       "(5+7j)"
      ]
     },
     "execution_count": 4,
     "metadata": {},
     "output_type": "execute_result"
    }
   ],
   "source": [
    "l[6]"
   ]
  },
  {
   "cell_type": "code",
   "execution_count": 5,
   "id": "067239b7-8ee8-4b8c-a87d-a0072abd870b",
   "metadata": {},
   "outputs": [
    {
     "data": {
      "text/plain": [
       "True"
      ]
     },
     "execution_count": 5,
     "metadata": {},
     "output_type": "execute_result"
    }
   ],
   "source": [
    "l[4]"
   ]
  },
  {
   "cell_type": "code",
   "execution_count": 6,
   "id": "d1dfb569-c44e-4859-8c8b-a4c62e097cec",
   "metadata": {},
   "outputs": [
    {
     "data": {
      "text/plain": [
       "[1, 2, 3.8]"
      ]
     },
     "execution_count": 6,
     "metadata": {},
     "output_type": "execute_result"
    }
   ],
   "source": [
    "l[0:3]"
   ]
  },
  {
   "cell_type": "code",
   "execution_count": 7,
   "id": "986d034b-67ad-4906-ab49-8d3f4dc731ef",
   "metadata": {},
   "outputs": [
    {
     "data": {
      "text/plain": [
       "(5+7j)"
      ]
     },
     "execution_count": 7,
     "metadata": {},
     "output_type": "execute_result"
    }
   ],
   "source": [
    "l[-1]"
   ]
  },
  {
   "cell_type": "code",
   "execution_count": 8,
   "id": "41e46d26-bd4f-4da8-9d6d-2b235ca3497a",
   "metadata": {},
   "outputs": [
    {
     "data": {
      "text/plain": [
       "[(5+7j), False, True, 'tomas', 3.8, 2, 1]"
      ]
     },
     "execution_count": 8,
     "metadata": {},
     "output_type": "execute_result"
    }
   ],
   "source": [
    "l[::-1]"
   ]
  },
  {
   "cell_type": "code",
   "execution_count": 10,
   "id": "f5484c18-f66b-4b94-8a0d-5e8299dcc8f9",
   "metadata": {},
   "outputs": [
    {
     "data": {
      "text/plain": [
       "[1, 3.8, True, (5+7j)]"
      ]
     },
     "execution_count": 10,
     "metadata": {},
     "output_type": "execute_result"
    }
   ],
   "source": [
    "l[::2]           #gives all even index members"
   ]
  },
  {
   "cell_type": "code",
   "execution_count": 12,
   "id": "2010ba2a-7246-455d-97f9-83220acbca88",
   "metadata": {},
   "outputs": [],
   "source": [
    "s=\"tomas\""
   ]
  },
  {
   "cell_type": "code",
   "execution_count": 13,
   "id": "e20ed79f-8af8-444a-8b17-33efd6c909b6",
   "metadata": {},
   "outputs": [
    {
     "ename": "TypeError",
     "evalue": "can only concatenate list (not \"str\") to list",
     "output_type": "error",
     "traceback": [
      "\u001b[0;31m---------------------------------------------------------------------------\u001b[0m",
      "\u001b[0;31mTypeError\u001b[0m                                 Traceback (most recent call last)",
      "Cell \u001b[0;32mIn[13], line 1\u001b[0m\n\u001b[0;32m----> 1\u001b[0m \u001b[43ml\u001b[49m\u001b[38;5;241;43m+\u001b[39;49m\u001b[43ms\u001b[49m\n",
      "\u001b[0;31mTypeError\u001b[0m: can only concatenate list (not \"str\") to list"
     ]
    }
   ],
   "source": [
    "l+s"
   ]
  },
  {
   "cell_type": "code",
   "execution_count": 14,
   "id": "0ad72ecf-9613-41c2-becb-15e15ef53275",
   "metadata": {},
   "outputs": [
    {
     "data": {
      "text/plain": [
       "['t', 'o', 'm', 'a', 's']"
      ]
     },
     "execution_count": 14,
     "metadata": {},
     "output_type": "execute_result"
    }
   ],
   "source": [
    "list(s)"
   ]
  },
  {
   "cell_type": "code",
   "execution_count": 15,
   "id": "a9f08b24-0115-43d3-8675-20d8b368010e",
   "metadata": {},
   "outputs": [
    {
     "data": {
      "text/plain": [
       "['t', 'o', 'm', 'a', 's', 1, 2, 3.8, 'tomas', True, False, (5+7j)]"
      ]
     },
     "execution_count": 15,
     "metadata": {},
     "output_type": "execute_result"
    }
   ],
   "source": [
    "list(s)+l"
   ]
  },
  {
   "cell_type": "code",
   "execution_count": 17,
   "id": "6ad2fab8-d301-4eab-aee5-cd7f71ca8bf1",
   "metadata": {},
   "outputs": [
    {
     "data": {
      "text/plain": [
       "'tomas'"
      ]
     },
     "execution_count": 17,
     "metadata": {},
     "output_type": "execute_result"
    }
   ],
   "source": [
    "l[3]"
   ]
  },
  {
   "cell_type": "code",
   "execution_count": 18,
   "id": "7d5093a4-6e30-4a69-9f9c-194e8a180b33",
   "metadata": {},
   "outputs": [
    {
     "data": {
      "text/plain": [
       "str"
      ]
     },
     "execution_count": 18,
     "metadata": {},
     "output_type": "execute_result"
    }
   ],
   "source": [
    "type(l[3])"
   ]
  },
  {
   "cell_type": "code",
   "execution_count": 19,
   "id": "0114f74a-3334-4a96-a481-52a681ec6bfd",
   "metadata": {},
   "outputs": [
    {
     "data": {
      "text/plain": [
       "'tom'"
      ]
     },
     "execution_count": 19,
     "metadata": {},
     "output_type": "execute_result"
    }
   ],
   "source": [
    "l[3][0:3]"
   ]
  },
  {
   "cell_type": "code",
   "execution_count": 42,
   "id": "ae2d2170-c845-4181-b2f4-8ee1ea4b36a7",
   "metadata": {},
   "outputs": [
    {
     "data": {
      "text/plain": [
       "True"
      ]
     },
     "execution_count": 42,
     "metadata": {},
     "output_type": "execute_result"
    }
   ],
   "source": [
    "l[4]"
   ]
  },
  {
   "cell_type": "code",
   "execution_count": 69,
   "id": "6b9c591c-4921-418b-a930-24279f66c6a5",
   "metadata": {},
   "outputs": [
    {
     "data": {
      "text/plain": [
       "'Tr'"
      ]
     },
     "execution_count": 69,
     "metadata": {},
     "output_type": "execute_result"
    }
   ],
   "source": [
    "str(l[4])[0:2]"
   ]
  },
  {
   "cell_type": "code",
   "execution_count": null,
   "id": "d861027c-c450-4676-ba6b-5986ad87a806",
   "metadata": {},
   "outputs": [],
   "source": []
  },
  {
   "cell_type": "code",
   "execution_count": null,
   "id": "9b8baedd-520e-4427-b6ff-8833fe984121",
   "metadata": {},
   "outputs": [],
   "source": []
  },
  {
   "cell_type": "code",
   "execution_count": null,
   "id": "b54158ea-3528-4162-ac7c-08f7c828f7bf",
   "metadata": {},
   "outputs": [],
   "source": [
    "      #to add new object in a list"
   ]
  },
  {
   "cell_type": "code",
   "execution_count": null,
   "id": "17157049-96b0-461d-a471-27cb23f9f53b",
   "metadata": {},
   "outputs": [],
   "source": [
    "           #append( as it is last ot vorai die)"
   ]
  },
  {
   "cell_type": "code",
   "execution_count": 68,
   "id": "7b570633-1f49-4c31-9840-75213643348a",
   "metadata": {},
   "outputs": [],
   "source": [
    "l=[1,2,3.8,\"tomas\",True,False,5+7j]"
   ]
  },
  {
   "cell_type": "code",
   "execution_count": 63,
   "id": "87783b0b-b058-4eae-9556-71ec263d2c2e",
   "metadata": {},
   "outputs": [],
   "source": [
    "l.append(5)"
   ]
  },
  {
   "cell_type": "code",
   "execution_count": 64,
   "id": "7928c13f-b682-4038-8b49-d8d9528d5e83",
   "metadata": {},
   "outputs": [
    {
     "data": {
      "text/plain": [
       "[1, 2, 3.8, 'tomas', True, False, (5+7j), 5]"
      ]
     },
     "execution_count": 64,
     "metadata": {},
     "output_type": "execute_result"
    }
   ],
   "source": [
    "l"
   ]
  },
  {
   "cell_type": "code",
   "execution_count": 65,
   "id": "d3b3b7b0-46ba-4d3c-8986-8d6db90cbc3b",
   "metadata": {},
   "outputs": [],
   "source": [
    "l.append(200)"
   ]
  },
  {
   "cell_type": "code",
   "execution_count": 66,
   "id": "ee42e674-1f05-4344-8e5d-1d760afd2fe6",
   "metadata": {},
   "outputs": [
    {
     "data": {
      "text/plain": [
       "[1, 2, 3.8, 'tomas', True, False, (5+7j), 5, 200]"
      ]
     },
     "execution_count": 66,
     "metadata": {},
     "output_type": "execute_result"
    }
   ],
   "source": [
    "l"
   ]
  },
  {
   "cell_type": "code",
   "execution_count": 70,
   "id": "38540a1d-5e8c-479b-9d1a-f228762b2b1d",
   "metadata": {},
   "outputs": [],
   "source": [
    "l1=[55,2.22]"
   ]
  },
  {
   "cell_type": "code",
   "execution_count": 71,
   "id": "29fdd1ee-2cd9-466a-9e92-831c509ac5b3",
   "metadata": {},
   "outputs": [],
   "source": [
    "l.append(l1)"
   ]
  },
  {
   "cell_type": "code",
   "execution_count": 72,
   "id": "8a5a88f4-f664-417c-b06e-52d69a17c946",
   "metadata": {},
   "outputs": [
    {
     "data": {
      "text/plain": [
       "[1, 2, 3.8, 'tomas', True, False, (5+7j), [55, 2.22]]"
      ]
     },
     "execution_count": 72,
     "metadata": {},
     "output_type": "execute_result"
    }
   ],
   "source": [
    "l"
   ]
  },
  {
   "cell_type": "code",
   "execution_count": 74,
   "id": "201e57f2-849c-4469-a427-4673ad37a437",
   "metadata": {},
   "outputs": [
    {
     "data": {
      "text/plain": [
       "2.22"
      ]
     },
     "execution_count": 74,
     "metadata": {},
     "output_type": "execute_result"
    }
   ],
   "source": [
    "l[-1][1]"
   ]
  },
  {
   "cell_type": "code",
   "execution_count": null,
   "id": "2b21e70d-71c4-4e23-acba-66bd57e8099b",
   "metadata": {},
   "outputs": [],
   "source": [
    "       #extend(vangi pine lastot vorai die)"
   ]
  },
  {
   "cell_type": "code",
   "execution_count": 76,
   "id": "5d40b943-29ee-4fad-8dcb-edd042a7dffe",
   "metadata": {},
   "outputs": [],
   "source": [
    "l.extend(l1)"
   ]
  },
  {
   "cell_type": "code",
   "execution_count": 77,
   "id": "0650f2d1-6420-4028-b92e-ac6a9ba1b4aa",
   "metadata": {},
   "outputs": [
    {
     "data": {
      "text/plain": [
       "[1, 2, 3.8, 'tomas', True, False, (5+7j), [55, 2.22], 55, 2.22]"
      ]
     },
     "execution_count": 77,
     "metadata": {},
     "output_type": "execute_result"
    }
   ],
   "source": [
    "l"
   ]
  },
  {
   "cell_type": "code",
   "execution_count": 78,
   "id": "bc4c64f4-2069-46ef-8175-78e6e19a148c",
   "metadata": {},
   "outputs": [],
   "source": [
    "l2=\"pwskills\""
   ]
  },
  {
   "cell_type": "code",
   "execution_count": 80,
   "id": "f740a076-dc78-4562-b163-6c1541190ad7",
   "metadata": {},
   "outputs": [],
   "source": [
    "l.append(\"pwskills\")"
   ]
  },
  {
   "cell_type": "code",
   "execution_count": 81,
   "id": "2e8b04c5-63bf-488b-a087-a22a5f670ebc",
   "metadata": {},
   "outputs": [
    {
     "data": {
      "text/plain": [
       "[1, 2, 3.8, 'tomas', True, False, (5+7j), [55, 2.22], 55, 2.22, 'pwskills']"
      ]
     },
     "execution_count": 81,
     "metadata": {},
     "output_type": "execute_result"
    }
   ],
   "source": [
    "l"
   ]
  },
  {
   "cell_type": "code",
   "execution_count": 82,
   "id": "bc719a54-a9a6-4ecc-820b-be76227aaafa",
   "metadata": {},
   "outputs": [],
   "source": [
    "l.extend(\"pwskills\")"
   ]
  },
  {
   "cell_type": "code",
   "execution_count": 83,
   "id": "0cba3e6b-7965-4aeb-bb55-d41ce842e660",
   "metadata": {},
   "outputs": [
    {
     "data": {
      "text/plain": [
       "[1,\n",
       " 2,\n",
       " 3.8,\n",
       " 'tomas',\n",
       " True,\n",
       " False,\n",
       " (5+7j),\n",
       " [55, 2.22],\n",
       " 55,\n",
       " 2.22,\n",
       " 'pwskills',\n",
       " 'p',\n",
       " 'w',\n",
       " 's',\n",
       " 'k',\n",
       " 'i',\n",
       " 'l',\n",
       " 'l',\n",
       " 's']"
      ]
     },
     "execution_count": 83,
     "metadata": {},
     "output_type": "execute_result"
    }
   ],
   "source": [
    "l"
   ]
  },
  {
   "cell_type": "code",
   "execution_count": 84,
   "id": "ce1f972e-7c42-4a35-b8eb-dc665b34d32d",
   "metadata": {},
   "outputs": [],
   "source": [
    "       #insert(jot ba jitu index ot mon jai tat object vorabole)"
   ]
  },
  {
   "cell_type": "code",
   "execution_count": 85,
   "id": "6ef3cd6b-8a0f-41e2-bedc-ff130ccaf05d",
   "metadata": {},
   "outputs": [],
   "source": [
    "list=[\"shiv\",6,9,9.8]"
   ]
  },
  {
   "cell_type": "code",
   "execution_count": 86,
   "id": "5e27bd7b-cfe3-48ee-8866-659595aeab56",
   "metadata": {},
   "outputs": [],
   "source": [
    "list.insert(1,\"tomas\")"
   ]
  },
  {
   "cell_type": "code",
   "execution_count": 87,
   "id": "a69f3666-903d-4b4d-937a-9abf1b72fbc6",
   "metadata": {},
   "outputs": [
    {
     "data": {
      "text/plain": [
       "['shiv', 'tomas', 6, 9, 9.8]"
      ]
     },
     "execution_count": 87,
     "metadata": {},
     "output_type": "execute_result"
    }
   ],
   "source": [
    "list"
   ]
  },
  {
   "cell_type": "code",
   "execution_count": 88,
   "id": "d354adf8-ea6a-4c85-8233-231fcce3b8a3",
   "metadata": {},
   "outputs": [],
   "source": [
    "list.insert(-1,5)"
   ]
  },
  {
   "cell_type": "code",
   "execution_count": 89,
   "id": "7a346b9a-bad6-41e2-9b2e-1aa8a0215221",
   "metadata": {},
   "outputs": [
    {
     "data": {
      "text/plain": [
       "['shiv', 'tomas', 6, 9, 5, 9.8]"
      ]
     },
     "execution_count": 89,
     "metadata": {},
     "output_type": "execute_result"
    }
   ],
   "source": [
    "list"
   ]
  },
  {
   "cell_type": "code",
   "execution_count": null,
   "id": "d0f9cde8-c5af-46cf-a421-290c4403e744",
   "metadata": {},
   "outputs": [],
   "source": []
  },
  {
   "cell_type": "code",
   "execution_count": 99,
   "id": "4aa6e1ba-70ce-4032-bee7-17d4f3c352b3",
   "metadata": {},
   "outputs": [],
   "source": [
    "       #to remove objects in a list"
   ]
  },
  {
   "cell_type": "code",
   "execution_count": null,
   "id": "a9fbef93-0dda-4187-809b-0b5c56ea2bae",
   "metadata": {},
   "outputs": [],
   "source": [
    "         #pop remove obejects from index"
   ]
  },
  {
   "cell_type": "code",
   "execution_count": 91,
   "id": "68cf3086-bac1-4beb-bdcb-3c3aa1085300",
   "metadata": {},
   "outputs": [
    {
     "data": {
      "text/plain": [
       "['shiv', 'tomas', 6, 9, 5, 9.8]"
      ]
     },
     "execution_count": 91,
     "metadata": {},
     "output_type": "execute_result"
    }
   ],
   "source": [
    "list"
   ]
  },
  {
   "cell_type": "code",
   "execution_count": 92,
   "id": "7a51a641-51b8-46cf-aa89-5529d2c4fcb0",
   "metadata": {},
   "outputs": [
    {
     "data": {
      "text/plain": [
       "9.8"
      ]
     },
     "execution_count": 92,
     "metadata": {},
     "output_type": "execute_result"
    }
   ],
   "source": [
    "list.pop()"
   ]
  },
  {
   "cell_type": "code",
   "execution_count": 93,
   "id": "c8a0ff9b-26d7-4782-a157-5ce85c1e68ae",
   "metadata": {},
   "outputs": [
    {
     "data": {
      "text/plain": [
       "['shiv', 'tomas', 6, 9, 5]"
      ]
     },
     "execution_count": 93,
     "metadata": {},
     "output_type": "execute_result"
    }
   ],
   "source": [
    "list"
   ]
  },
  {
   "cell_type": "code",
   "execution_count": 94,
   "id": "64372565-2e71-488f-b820-0908582fdf5e",
   "metadata": {},
   "outputs": [
    {
     "data": {
      "text/plain": [
       "5"
      ]
     },
     "execution_count": 94,
     "metadata": {},
     "output_type": "execute_result"
    }
   ],
   "source": [
    "list.pop()"
   ]
  },
  {
   "cell_type": "code",
   "execution_count": 95,
   "id": "b632ee17-7dc7-4dc9-81e9-b44eb17b82d4",
   "metadata": {},
   "outputs": [
    {
     "data": {
      "text/plain": [
       "['shiv', 'tomas', 6, 9]"
      ]
     },
     "execution_count": 95,
     "metadata": {},
     "output_type": "execute_result"
    }
   ],
   "source": [
    "list"
   ]
  },
  {
   "cell_type": "code",
   "execution_count": 96,
   "id": "6e428075-79f9-49f9-93d8-d353f050d31f",
   "metadata": {},
   "outputs": [
    {
     "data": {
      "text/plain": [
       "6"
      ]
     },
     "execution_count": 96,
     "metadata": {},
     "output_type": "execute_result"
    }
   ],
   "source": [
    "list.pop(2)"
   ]
  },
  {
   "cell_type": "code",
   "execution_count": 97,
   "id": "90dad3e0-3df4-4733-a43f-9e66219a7c84",
   "metadata": {},
   "outputs": [
    {
     "data": {
      "text/plain": [
       "['shiv', 'tomas', 9]"
      ]
     },
     "execution_count": 97,
     "metadata": {},
     "output_type": "execute_result"
    }
   ],
   "source": [
    "list"
   ]
  },
  {
   "cell_type": "code",
   "execution_count": 100,
   "id": "ee7522e2-d2bc-4d3b-b767-039811f7cfcd",
   "metadata": {},
   "outputs": [],
   "source": [
    "             #remove removes obeject actually"
   ]
  },
  {
   "cell_type": "code",
   "execution_count": 103,
   "id": "c9cb3f6e-986e-4e5e-8350-eaea6cf73180",
   "metadata": {},
   "outputs": [
    {
     "data": {
      "text/plain": [
       "['shiv', 'tomas', 9]"
      ]
     },
     "execution_count": 103,
     "metadata": {},
     "output_type": "execute_result"
    }
   ],
   "source": [
    "list"
   ]
  },
  {
   "cell_type": "code",
   "execution_count": 104,
   "id": "b19b2526-c285-4bf8-9e41-a60e554b417e",
   "metadata": {},
   "outputs": [],
   "source": [
    "list.remove(9)"
   ]
  },
  {
   "cell_type": "code",
   "execution_count": 105,
   "id": "8c667a25-eaff-4eea-b6f8-f90bd120c8de",
   "metadata": {},
   "outputs": [
    {
     "data": {
      "text/plain": [
       "['shiv', 'tomas']"
      ]
     },
     "execution_count": 105,
     "metadata": {},
     "output_type": "execute_result"
    }
   ],
   "source": [
    "list"
   ]
  },
  {
   "cell_type": "code",
   "execution_count": 107,
   "id": "6779ee3f-8f29-4269-bb9e-c0b997009675",
   "metadata": {},
   "outputs": [],
   "source": [
    "list.append([1,2,3])"
   ]
  },
  {
   "cell_type": "code",
   "execution_count": 108,
   "id": "87406adb-d8da-4225-a06b-b4d36e8cd4d1",
   "metadata": {},
   "outputs": [
    {
     "data": {
      "text/plain": [
       "['shiv', 'tomas', [1, 2, 3]]"
      ]
     },
     "execution_count": 108,
     "metadata": {},
     "output_type": "execute_result"
    }
   ],
   "source": [
    "list"
   ]
  },
  {
   "cell_type": "code",
   "execution_count": 110,
   "id": "be0aea6b-8d72-473c-90b1-5bfa1a527399",
   "metadata": {},
   "outputs": [],
   "source": [
    "list[-1].remove(2)    #we can remove from list of list as list is mutable"
   ]
  },
  {
   "cell_type": "code",
   "execution_count": 111,
   "id": "4f012f74-d46e-40a6-af25-8ea2e4ba0fc7",
   "metadata": {},
   "outputs": [
    {
     "data": {
      "text/plain": [
       "['shiv', 'tomas', [1, 3]]"
      ]
     },
     "execution_count": 111,
     "metadata": {},
     "output_type": "execute_result"
    }
   ],
   "source": [
    "list"
   ]
  },
  {
   "cell_type": "code",
   "execution_count": 114,
   "id": "78a264ac-4b07-4ee2-9398-45288395d569",
   "metadata": {},
   "outputs": [],
   "source": [
    "list.append(4)"
   ]
  },
  {
   "cell_type": "code",
   "execution_count": 115,
   "id": "e44a55a6-b391-4cda-b89e-a96166e8a253",
   "metadata": {},
   "outputs": [
    {
     "data": {
      "text/plain": [
       "['shiv', 'tomas', [1, 3], 4, 4]"
      ]
     },
     "execution_count": 115,
     "metadata": {},
     "output_type": "execute_result"
    }
   ],
   "source": [
    "list"
   ]
  },
  {
   "cell_type": "code",
   "execution_count": 117,
   "id": "7dab9a59-294b-43fe-8628-6d29012b5ee2",
   "metadata": {},
   "outputs": [],
   "source": [
    "list.remove(4)    #running 2 times to remove both 4s"
   ]
  },
  {
   "cell_type": "code",
   "execution_count": 118,
   "id": "cd74c1b3-c958-4029-a725-c625987bd79d",
   "metadata": {},
   "outputs": [
    {
     "data": {
      "text/plain": [
       "['shiv', 'tomas', [1, 3]]"
      ]
     },
     "execution_count": 118,
     "metadata": {},
     "output_type": "execute_result"
    }
   ],
   "source": [
    "list"
   ]
  },
  {
   "cell_type": "code",
   "execution_count": 119,
   "id": "8d3cfe93-74d9-4792-b966-6378a2349154",
   "metadata": {},
   "outputs": [
    {
     "data": {
      "text/plain": [
       "[[1, 3], 'tomas', 'shiv']"
      ]
     },
     "execution_count": 119,
     "metadata": {},
     "output_type": "execute_result"
    }
   ],
   "source": [
    "list[::-1]      #is not temporary reverse"
   ]
  },
  {
   "cell_type": "code",
   "execution_count": 121,
   "id": "33a7d523-8c99-4411-a015-347dc373ed00",
   "metadata": {},
   "outputs": [],
   "source": [
    "list=list[::-1]  #is a permanent reverse"
   ]
  },
  {
   "cell_type": "code",
   "execution_count": 122,
   "id": "d2f77dad-b06e-4d69-bfe2-1d6212aa18fc",
   "metadata": {},
   "outputs": [
    {
     "data": {
      "text/plain": [
       "[[1, 3], 'tomas', 'shiv']"
      ]
     },
     "execution_count": 122,
     "metadata": {},
     "output_type": "execute_result"
    }
   ],
   "source": [
    "list"
   ]
  },
  {
   "cell_type": "code",
   "execution_count": null,
   "id": "01db096c-6dfb-48c5-b6a6-fa53171605ff",
   "metadata": {},
   "outputs": [],
   "source": [
    "      #reverse use in permanent reverse "
   ]
  },
  {
   "cell_type": "code",
   "execution_count": 123,
   "id": "b790ee40-6180-4697-bb11-e76746d86ce6",
   "metadata": {},
   "outputs": [],
   "source": [
    "list.reverse()"
   ]
  },
  {
   "cell_type": "code",
   "execution_count": 124,
   "id": "5d82815d-5033-46ed-8c93-cb1e8c2bda76",
   "metadata": {},
   "outputs": [
    {
     "data": {
      "text/plain": [
       "['shiv', 'tomas', [1, 3]]"
      ]
     },
     "execution_count": 124,
     "metadata": {},
     "output_type": "execute_result"
    }
   ],
   "source": [
    "list"
   ]
  },
  {
   "cell_type": "code",
   "execution_count": 125,
   "id": "c420e9e6-4c4a-45e9-8a93-c7e8475e446f",
   "metadata": {},
   "outputs": [],
   "source": [
    "    #sort is use to arrange the objects in ascending order"
   ]
  },
  {
   "cell_type": "code",
   "execution_count": 132,
   "id": "cd422166-55f9-4a2b-9c25-862f56bda227",
   "metadata": {},
   "outputs": [],
   "source": [
    "l4=[3,1,8,4,0,2]"
   ]
  },
  {
   "cell_type": "code",
   "execution_count": 133,
   "id": "407941f4-022f-435e-8234-23a9469cca74",
   "metadata": {},
   "outputs": [],
   "source": [
    "l4.sort()"
   ]
  },
  {
   "cell_type": "code",
   "execution_count": 135,
   "id": "e166bac2-bdff-4c41-92ca-2a992bcffb8e",
   "metadata": {},
   "outputs": [
    {
     "data": {
      "text/plain": [
       "[0, 1, 2, 3, 4, 8]"
      ]
     },
     "execution_count": 135,
     "metadata": {},
     "output_type": "execute_result"
    }
   ],
   "source": [
    "l4"
   ]
  },
  {
   "cell_type": "code",
   "execution_count": 136,
   "id": "5437c58b-3e64-4b23-80fd-429f5a9b3e3a",
   "metadata": {},
   "outputs": [],
   "source": [
    "l5=[\"tomas\",\"neha\",\"madhu\"]"
   ]
  },
  {
   "cell_type": "code",
   "execution_count": 137,
   "id": "c730c99f-bdef-45a5-8fb4-20cc659d2fb2",
   "metadata": {},
   "outputs": [],
   "source": [
    "l5.sort()"
   ]
  },
  {
   "cell_type": "code",
   "execution_count": 138,
   "id": "d33dd2fd-2e0e-466d-8410-dead2a1398e4",
   "metadata": {},
   "outputs": [
    {
     "data": {
      "text/plain": [
       "['madhu', 'neha', 'tomas']"
      ]
     },
     "execution_count": 138,
     "metadata": {},
     "output_type": "execute_result"
    }
   ],
   "source": [
    "l5"
   ]
  },
  {
   "cell_type": "code",
   "execution_count": 139,
   "id": "561330b5-8cef-44b3-8160-c5f95dfaaab5",
   "metadata": {},
   "outputs": [],
   "source": [
    "  #to arrange in descending order"
   ]
  },
  {
   "cell_type": "code",
   "execution_count": 140,
   "id": "5a1c4e8f-b3b5-44ca-91da-02d48bc36c95",
   "metadata": {},
   "outputs": [
    {
     "data": {
      "text/plain": [
       "['madhu', 'neha', 'tomas']"
      ]
     },
     "execution_count": 140,
     "metadata": {},
     "output_type": "execute_result"
    }
   ],
   "source": [
    "l5"
   ]
  },
  {
   "cell_type": "code",
   "execution_count": 141,
   "id": "43d3098d-ba50-42ce-816f-d360093454b3",
   "metadata": {},
   "outputs": [],
   "source": [
    "l5.sort(reverse=True)"
   ]
  },
  {
   "cell_type": "code",
   "execution_count": 143,
   "id": "c2a528e5-d9fb-45cf-a100-abafe8c197eb",
   "metadata": {},
   "outputs": [
    {
     "data": {
      "text/plain": [
       "['tomas', 'neha', 'madhu']"
      ]
     },
     "execution_count": 143,
     "metadata": {},
     "output_type": "execute_result"
    }
   ],
   "source": [
    "l5"
   ]
  },
  {
   "cell_type": "code",
   "execution_count": 144,
   "id": "12c9655c-7270-4ad4-a214-5adb436817e5",
   "metadata": {},
   "outputs": [
    {
     "data": {
      "text/plain": [
       "[0, 1, 2, 3, 4, 8]"
      ]
     },
     "execution_count": 144,
     "metadata": {},
     "output_type": "execute_result"
    }
   ],
   "source": [
    "l4"
   ]
  },
  {
   "cell_type": "code",
   "execution_count": 145,
   "id": "0cced1d3-f2c0-4280-91ea-ae9dd5463f58",
   "metadata": {},
   "outputs": [],
   "source": [
    "l4.sort(reverse=True)"
   ]
  },
  {
   "cell_type": "code",
   "execution_count": 146,
   "id": "17847863-d719-41f8-babc-4690f2a8d9c3",
   "metadata": {},
   "outputs": [
    {
     "data": {
      "text/plain": [
       "[8, 4, 3, 2, 1, 0]"
      ]
     },
     "execution_count": 146,
     "metadata": {},
     "output_type": "execute_result"
    }
   ],
   "source": [
    "l4"
   ]
  },
  {
   "cell_type": "code",
   "execution_count": 147,
   "id": "abb1e9b2-abd3-48f5-84e0-b369b5f0d629",
   "metadata": {},
   "outputs": [],
   "source": [
    "   #index find"
   ]
  },
  {
   "cell_type": "code",
   "execution_count": 148,
   "id": "02de214c-f542-4312-961a-90991094936b",
   "metadata": {},
   "outputs": [
    {
     "data": {
      "text/plain": [
       "[8, 4, 3, 2, 1, 0]"
      ]
     },
     "execution_count": 148,
     "metadata": {},
     "output_type": "execute_result"
    }
   ],
   "source": [
    "l4"
   ]
  },
  {
   "cell_type": "code",
   "execution_count": 150,
   "id": "5b5c0f14-18f8-4f3c-ad88-284b07af7bf0",
   "metadata": {},
   "outputs": [
    {
     "data": {
      "text/plain": [
       "1"
      ]
     },
     "execution_count": 150,
     "metadata": {},
     "output_type": "execute_result"
    }
   ],
   "source": [
    "l4.index(4)"
   ]
  },
  {
   "cell_type": "code",
   "execution_count": 151,
   "id": "92cd2632-57a3-42aa-8879-ff7cb4f478c3",
   "metadata": {},
   "outputs": [],
   "source": [
    "   #count"
   ]
  },
  {
   "cell_type": "code",
   "execution_count": 152,
   "id": "c985612c-4b69-499a-8698-59913b29539c",
   "metadata": {},
   "outputs": [
    {
     "data": {
      "text/plain": [
       "1"
      ]
     },
     "execution_count": 152,
     "metadata": {},
     "output_type": "execute_result"
    }
   ],
   "source": [
    "l4.count(1)"
   ]
  },
  {
   "cell_type": "code",
   "execution_count": null,
   "id": "1c351c63-acd0-4d7c-bf19-d41d65bff62d",
   "metadata": {},
   "outputs": [],
   "source": []
  },
  {
   "cell_type": "code",
   "execution_count": 153,
   "id": "a7ee9faa-9b84-4208-9851-bf87d4740a38",
   "metadata": {},
   "outputs": [],
   "source": [
    "#to replace "
   ]
  },
  {
   "cell_type": "code",
   "execution_count": 154,
   "id": "42626143-287e-4534-9c6f-1c0f5084c4e2",
   "metadata": {},
   "outputs": [],
   "source": [
    "s=\"tomas\""
   ]
  },
  {
   "cell_type": "code",
   "execution_count": 155,
   "id": "1a9604a1-1d99-48ec-8e7f-f94b3e0d7f30",
   "metadata": {},
   "outputs": [],
   "source": [
    "t=[2,1,4,5]"
   ]
  },
  {
   "cell_type": "code",
   "execution_count": 156,
   "id": "bb112d83-0867-4818-8e8e-948ac35ea179",
   "metadata": {},
   "outputs": [
    {
     "ename": "TypeError",
     "evalue": "'str' object does not support item assignment",
     "output_type": "error",
     "traceback": [
      "\u001b[0;31m---------------------------------------------------------------------------\u001b[0m",
      "\u001b[0;31mTypeError\u001b[0m                                 Traceback (most recent call last)",
      "Cell \u001b[0;32mIn[156], line 1\u001b[0m\n\u001b[0;32m----> 1\u001b[0m \u001b[43ms\u001b[49m\u001b[43m[\u001b[49m\u001b[38;5;241;43m0\u001b[39;49m\u001b[43m]\u001b[49m\u001b[38;5;241m=\u001b[39m\u001b[38;5;124m\"\u001b[39m\u001b[38;5;124ma\u001b[39m\u001b[38;5;124m\"\u001b[39m\n",
      "\u001b[0;31mTypeError\u001b[0m: 'str' object does not support item assignment"
     ]
    }
   ],
   "source": [
    "s[0]=\"a\"      #as strings are immutable we cant change it"
   ]
  },
  {
   "cell_type": "code",
   "execution_count": 157,
   "id": "09faaf21-3f52-49bd-a503-b501cbf96e76",
   "metadata": {},
   "outputs": [],
   "source": [
    "t[0]=30       #as lists are mutable we can change it"
   ]
  },
  {
   "cell_type": "code",
   "execution_count": 159,
   "id": "8824dfdb-cdc9-4ab3-9b48-9097834f3e2d",
   "metadata": {},
   "outputs": [
    {
     "data": {
      "text/plain": [
       "[30, 1, 4, 5]"
      ]
     },
     "execution_count": 159,
     "metadata": {},
     "output_type": "execute_result"
    }
   ],
   "source": [
    "t"
   ]
  },
  {
   "cell_type": "code",
   "execution_count": 2,
   "id": "8a6ca8e3-0b8d-4651-9c17-3791685ed306",
   "metadata": {},
   "outputs": [],
   "source": [
    "s=\"tomas\""
   ]
  },
  {
   "cell_type": "code",
   "execution_count": 4,
   "id": "3a69f43f-66c7-4dc8-8d51-eee38a50c198",
   "metadata": {},
   "outputs": [
    {
     "data": {
      "text/plain": [
       "'toras'"
      ]
     },
     "execution_count": 4,
     "metadata": {},
     "output_type": "execute_result"
    }
   ],
   "source": [
    "s.replace(\"m\",\"r\")       # it is the only way to replacein string"
   ]
  },
  {
   "cell_type": "code",
   "execution_count": null,
   "id": "d9db96a2-21f5-4c1e-b8ec-7d8fa08ad534",
   "metadata": {},
   "outputs": [],
   "source": []
  },
  {
   "cell_type": "code",
   "execution_count": null,
   "id": "3923c3c1-1fa7-4c3e-bb73-c550095bd779",
   "metadata": {},
   "outputs": [],
   "source": []
  },
  {
   "cell_type": "code",
   "execution_count": 6,
   "id": "69877572-d3dc-4073-a291-3c7d1cc7d5b5",
   "metadata": {},
   "outputs": [],
   "source": [
    "         #tuple(same as list but only diff is parrenthases) #use in password"
   ]
  },
  {
   "cell_type": "code",
   "execution_count": 7,
   "id": "dfdd2a30-1e55-4658-a568-a58cae44bf9c",
   "metadata": {},
   "outputs": [],
   "source": [
    "t=(2,1,4,\"tomas\",3.2,7.8,6+8j,True,[2,1,3])"
   ]
  },
  {
   "cell_type": "code",
   "execution_count": 8,
   "id": "318abfcb-e4cc-4d9c-ad4a-f521e0d5a170",
   "metadata": {},
   "outputs": [
    {
     "data": {
      "text/plain": [
       "(2, 1, 4, 'tomas', 3.2, 7.8, (6+8j), True, [2, 1, 3])"
      ]
     },
     "execution_count": 8,
     "metadata": {},
     "output_type": "execute_result"
    }
   ],
   "source": [
    "t"
   ]
  },
  {
   "cell_type": "code",
   "execution_count": 9,
   "id": "928e4bdf-4a4f-4064-a3a9-3959ca6da1c1",
   "metadata": {},
   "outputs": [
    {
     "data": {
      "text/plain": [
       "tuple"
      ]
     },
     "execution_count": 9,
     "metadata": {},
     "output_type": "execute_result"
    }
   ],
   "source": [
    "type(t)"
   ]
  },
  {
   "cell_type": "code",
   "execution_count": 10,
   "id": "eac17ccd-5f0b-449a-8cb1-be3139b0498d",
   "metadata": {},
   "outputs": [
    {
     "data": {
      "text/plain": [
       "9"
      ]
     },
     "execution_count": 10,
     "metadata": {},
     "output_type": "execute_result"
    }
   ],
   "source": [
    "len(t)"
   ]
  },
  {
   "cell_type": "code",
   "execution_count": 11,
   "id": "1d9ed34c-a615-4e66-b0c3-a79f31cdfbbe",
   "metadata": {},
   "outputs": [
    {
     "ename": "SyntaxError",
     "evalue": "cannot assign to function call here. Maybe you meant '==' instead of '='? (2993932370.py, line 1)",
     "output_type": "error",
     "traceback": [
      "\u001b[0;36m  Cell \u001b[0;32mIn[11], line 1\u001b[0;36m\u001b[0m\n\u001b[0;31m    t(0)=\"sudh\"\u001b[0m\n\u001b[0m    ^\u001b[0m\n\u001b[0;31mSyntaxError\u001b[0m\u001b[0;31m:\u001b[0m cannot assign to function call here. Maybe you meant '==' instead of '='?\n"
     ]
    }
   ],
   "source": [
    "t(0)=\"sudh\"        #tuple is immutable so"
   ]
  },
  {
   "cell_type": "code",
   "execution_count": 12,
   "id": "01c40122-d27e-4a9e-a90d-c278cacd6b9d",
   "metadata": {},
   "outputs": [],
   "source": [
    "l1=[\"jaun\",\"pihu\",\"sunia\"]"
   ]
  },
  {
   "cell_type": "code",
   "execution_count": 14,
   "id": "04e3b050-09f9-4795-ae6c-8e1a5a7807b3",
   "metadata": {},
   "outputs": [],
   "source": [
    "l1[0]=89890    #but list is mutable so"
   ]
  },
  {
   "cell_type": "code",
   "execution_count": 15,
   "id": "0f8feb3a-c55c-4dae-b8b4-003d5536e232",
   "metadata": {},
   "outputs": [
    {
     "data": {
      "text/plain": [
       "[89890, 'pihu', 'sunia']"
      ]
     },
     "execution_count": 15,
     "metadata": {},
     "output_type": "execute_result"
    }
   ],
   "source": [
    "l1"
   ]
  },
  {
   "cell_type": "code",
   "execution_count": 16,
   "id": "e485caa8-2403-49ff-8f66-4840ead9315a",
   "metadata": {},
   "outputs": [
    {
     "data": {
      "text/plain": [
       "([2, 1, 3], True, (6+8j), 7.8, 3.2, 'tomas', 4, 1, 2)"
      ]
     },
     "execution_count": 16,
     "metadata": {},
     "output_type": "execute_result"
    }
   ],
   "source": [
    "t[::-1]"
   ]
  },
  {
   "cell_type": "code",
   "execution_count": 17,
   "id": "b1d129fc-905e-4505-a707-4e3d8df5e04a",
   "metadata": {},
   "outputs": [
    {
     "data": {
      "text/plain": [
       "1"
      ]
     },
     "execution_count": 17,
     "metadata": {},
     "output_type": "execute_result"
    }
   ],
   "source": [
    "t.count(7.8)"
   ]
  },
  {
   "cell_type": "code",
   "execution_count": 19,
   "id": "f2f2417c-50bd-440e-bf21-6bd541d8ab39",
   "metadata": {},
   "outputs": [
    {
     "data": {
      "text/plain": [
       "1"
      ]
     },
     "execution_count": 19,
     "metadata": {},
     "output_type": "execute_result"
    }
   ],
   "source": [
    "t.index(True)"
   ]
  },
  {
   "cell_type": "code",
   "execution_count": null,
   "id": "37d29b71-99b6-4133-9f60-2713e30a069b",
   "metadata": {},
   "outputs": [],
   "source": []
  },
  {
   "cell_type": "code",
   "execution_count": null,
   "id": "308c5539-e92f-41f3-84a8-506b9e4aa84e",
   "metadata": {},
   "outputs": [],
   "source": []
  },
  {
   "cell_type": "code",
   "execution_count": null,
   "id": "4152cf95-fecc-4f71-a01c-a67600105756",
   "metadata": {},
   "outputs": [],
   "source": [
    "           #sets gives unique objects"
   ]
  },
  {
   "cell_type": "code",
   "execution_count": 1,
   "id": "f6d2e1e9-ed08-4df2-b6a6-4e0142360a80",
   "metadata": {},
   "outputs": [],
   "source": [
    "s1={}      "
   ]
  },
  {
   "cell_type": "code",
   "execution_count": 2,
   "id": "3d8187b1-eeac-47f2-a0e4-4e2c73cf82bc",
   "metadata": {},
   "outputs": [
    {
     "data": {
      "text/plain": [
       "dict"
      ]
     },
     "execution_count": 2,
     "metadata": {},
     "output_type": "execute_result"
    }
   ],
   "source": [
    "type(s1)        #is dict as empty set or null set"
   ]
  },
  {
   "cell_type": "code",
   "execution_count": 3,
   "id": "f6b88af4-799d-4e0b-a572-1a6c91af7196",
   "metadata": {},
   "outputs": [],
   "source": [
    "s2={13,615,77}"
   ]
  },
  {
   "cell_type": "code",
   "execution_count": 4,
   "id": "9dfe04a7-0385-40a6-abb2-5918b7bca541",
   "metadata": {},
   "outputs": [
    {
     "data": {
      "text/plain": [
       "set"
      ]
     },
     "execution_count": 4,
     "metadata": {},
     "output_type": "execute_result"
    }
   ],
   "source": [
    "type(s2)"
   ]
  },
  {
   "cell_type": "code",
   "execution_count": null,
   "id": "6b96be7e-65da-40d5-91ba-72fb6270afa7",
   "metadata": {},
   "outputs": [],
   "source": [
    "s3={12,2,4,3,[2,3,4]}"
   ]
  },
  {
   "cell_type": "code",
   "execution_count": 5,
   "id": "61c66c47-781b-4a42-9278-f71fe2658f83",
   "metadata": {},
   "outputs": [
    {
     "ename": "NameError",
     "evalue": "name 's3' is not defined",
     "output_type": "error",
     "traceback": [
      "\u001b[0;31m---------------------------------------------------------------------------\u001b[0m",
      "\u001b[0;31mNameError\u001b[0m                                 Traceback (most recent call last)",
      "Cell \u001b[0;32mIn[5], line 1\u001b[0m\n\u001b[0;32m----> 1\u001b[0m \u001b[43ms3\u001b[49m\n",
      "\u001b[0;31mNameError\u001b[0m: name 's3' is not defined"
     ]
    }
   ],
   "source": [
    "s3   #as list is a mutable object so it shows error because sets always takes a unique object"
   ]
  },
  {
   "cell_type": "code",
   "execution_count": 7,
   "id": "e5db917f-13d1-4682-8893-cc98160b8397",
   "metadata": {},
   "outputs": [],
   "source": [
    "s3={32,23,65,3,(4,3.4,3)}"
   ]
  },
  {
   "cell_type": "code",
   "execution_count": 8,
   "id": "e983a0e8-3eb5-4db9-bbca-f5da5c40991e",
   "metadata": {},
   "outputs": [
    {
     "data": {
      "text/plain": [
       "{(4, 3.4, 3), 23, 3, 32, 65}"
      ]
     },
     "execution_count": 8,
     "metadata": {},
     "output_type": "execute_result"
    }
   ],
   "source": [
    "s3            #set sccepts tuples as it is immutable"
   ]
  },
  {
   "cell_type": "code",
   "execution_count": null,
   "id": "3428b774-bffb-44e9-ae99-624bc8303cd0",
   "metadata": {},
   "outputs": [],
   "source": []
  },
  {
   "cell_type": "code",
   "execution_count": 14,
   "id": "4695b558-0fe7-467a-8eb4-1961ec8613a8",
   "metadata": {},
   "outputs": [],
   "source": [
    "s4={2,2,4,23,43,11,4,21,5,55,5,3,2,\"Tomas\",\"tomas\"}"
   ]
  },
  {
   "cell_type": "code",
   "execution_count": 15,
   "id": "9bf3959d-5db4-44bf-b490-e971a8ec8c26",
   "metadata": {},
   "outputs": [
    {
     "data": {
      "text/plain": [
       "{11, 2, 21, 23, 3, 4, 43, 5, 55, 'Tomas', 'tomas'}"
      ]
     },
     "execution_count": 15,
     "metadata": {},
     "output_type": "execute_result"
    }
   ],
   "source": [
    "s4"
   ]
  },
  {
   "cell_type": "code",
   "execution_count": 16,
   "id": "a51e58ef-cfa2-44eb-8a1a-e8981a4a850f",
   "metadata": {},
   "outputs": [],
   "source": [
    "l4=[22,44,22,11,2,2,22,44,12]"
   ]
  },
  {
   "cell_type": "code",
   "execution_count": 17,
   "id": "e469f933-36dc-4a7c-886e-7ed4a9cb4631",
   "metadata": {},
   "outputs": [
    {
     "data": {
      "text/plain": [
       "{2, 11, 12, 22, 44}"
      ]
     },
     "execution_count": 17,
     "metadata": {},
     "output_type": "execute_result"
    }
   ],
   "source": [
    "set(l4)"
   ]
  },
  {
   "cell_type": "code",
   "execution_count": 20,
   "id": "c76ef2ba-2dd2-43ce-b538-87291a02fa9f",
   "metadata": {},
   "outputs": [],
   "source": [
    "# re assigning"
   ]
  },
  {
   "cell_type": "code",
   "execution_count": 21,
   "id": "3ccb34d1-377d-479c-86a0-1a192a27d202",
   "metadata": {},
   "outputs": [],
   "source": [
    "l4=set(l4)"
   ]
  },
  {
   "cell_type": "code",
   "execution_count": 22,
   "id": "21a41ff6-a608-4c95-bb5c-c6e739526496",
   "metadata": {},
   "outputs": [
    {
     "data": {
      "text/plain": [
       "{2, 11, 12, 22, 44}"
      ]
     },
     "execution_count": 22,
     "metadata": {},
     "output_type": "execute_result"
    }
   ],
   "source": [
    "l4"
   ]
  },
  {
   "cell_type": "code",
   "execution_count": 23,
   "id": "24f12e75-063f-4e1d-999b-888039a95374",
   "metadata": {},
   "outputs": [],
   "source": [
    "#type casting to convert the above set into a list"
   ]
  },
  {
   "cell_type": "code",
   "execution_count": 24,
   "id": "3cd75f02-f71b-49cb-8595-62b5d0b9f66a",
   "metadata": {},
   "outputs": [],
   "source": [
    "l4=list(set(l4))"
   ]
  },
  {
   "cell_type": "code",
   "execution_count": 25,
   "id": "cedc7995-a597-482b-bb26-82f32c3d7019",
   "metadata": {},
   "outputs": [
    {
     "data": {
      "text/plain": [
       "[2, 22, 11, 44, 12]"
      ]
     },
     "execution_count": 25,
     "metadata": {},
     "output_type": "execute_result"
    }
   ],
   "source": [
    "l4"
   ]
  },
  {
   "cell_type": "code",
   "execution_count": 26,
   "id": "316b8a93-672d-4dd6-8b89-1b1b0d642a5b",
   "metadata": {},
   "outputs": [
    {
     "data": {
      "text/plain": [
       "{11, 2, 21, 23, 3, 4, 43, 5, 55, 'Tomas', 'tomas'}"
      ]
     },
     "execution_count": 26,
     "metadata": {},
     "output_type": "execute_result"
    }
   ],
   "source": [
    "s4"
   ]
  },
  {
   "cell_type": "code",
   "execution_count": 29,
   "id": "a0779910-0244-4998-8ffb-ad88f7d27169",
   "metadata": {},
   "outputs": [
    {
     "ename": "TypeError",
     "evalue": "'set' object is not subscriptable",
     "output_type": "error",
     "traceback": [
      "\u001b[0;31m---------------------------------------------------------------------------\u001b[0m",
      "\u001b[0;31mTypeError\u001b[0m                                 Traceback (most recent call last)",
      "Cell \u001b[0;32mIn[29], line 1\u001b[0m\n\u001b[0;32m----> 1\u001b[0m \u001b[43ms4\u001b[49m\u001b[43m[\u001b[49m\u001b[38;5;241;43m0\u001b[39;49m\u001b[43m]\u001b[49m\n",
      "\u001b[0;31mTypeError\u001b[0m: 'set' object is not subscriptable"
     ]
    }
   ],
   "source": [
    "s4[0]    #as sets do not have index it has hashing"
   ]
  },
  {
   "cell_type": "code",
   "execution_count": 30,
   "id": "304f89f2-247c-450a-9b24-9420a76a54cd",
   "metadata": {},
   "outputs": [
    {
     "ename": "TypeError",
     "evalue": "'set' object is not subscriptable",
     "output_type": "error",
     "traceback": [
      "\u001b[0;31m---------------------------------------------------------------------------\u001b[0m",
      "\u001b[0;31mTypeError\u001b[0m                                 Traceback (most recent call last)",
      "Cell \u001b[0;32mIn[30], line 1\u001b[0m\n\u001b[0;32m----> 1\u001b[0m \u001b[43ms4\u001b[49m\u001b[43m[\u001b[49m\u001b[43m:\u001b[49m\u001b[43m:\u001b[49m\u001b[38;5;241;43m-\u001b[39;49m\u001b[38;5;241;43m1\u001b[39;49m\u001b[43m]\u001b[49m\n",
      "\u001b[0;31mTypeError\u001b[0m: 'set' object is not subscriptable"
     ]
    }
   ],
   "source": [
    "s4[::-1]"
   ]
  },
  {
   "cell_type": "code",
   "execution_count": 31,
   "id": "33016565-b039-4986-b67e-9760e257e7da",
   "metadata": {},
   "outputs": [
    {
     "data": {
      "text/plain": [
       "{11, 2, 21, 23, 3, 4, 43, 5, 55, 'Tomas', 'tomas'}"
      ]
     },
     "execution_count": 31,
     "metadata": {},
     "output_type": "execute_result"
    }
   ],
   "source": [
    "s4"
   ]
  },
  {
   "cell_type": "code",
   "execution_count": 32,
   "id": "d7da6cd7-45e8-45b1-9bf7-fb45975c0535",
   "metadata": {},
   "outputs": [],
   "source": [
    "s4.add(1)"
   ]
  },
  {
   "cell_type": "code",
   "execution_count": 34,
   "id": "029c7bd6-2cc7-4ad6-8a57-3a4872ef8124",
   "metadata": {},
   "outputs": [
    {
     "data": {
      "text/plain": [
       "{1, 11, 2, 21, 23, 3, 4, 43, 5, 55, 'Tomas', 'tomas'}"
      ]
     },
     "execution_count": 34,
     "metadata": {},
     "output_type": "execute_result"
    }
   ],
   "source": [
    "s4"
   ]
  },
  {
   "cell_type": "code",
   "execution_count": 35,
   "id": "071f18a9-a4d9-4fc8-ba18-e5bc402a982e",
   "metadata": {},
   "outputs": [],
   "source": [
    "s4.remove(1)"
   ]
  },
  {
   "cell_type": "code",
   "execution_count": 36,
   "id": "baf0ba7d-0f71-41a8-861e-22b8333291a5",
   "metadata": {},
   "outputs": [
    {
     "data": {
      "text/plain": [
       "{11, 2, 21, 23, 3, 4, 43, 5, 55, 'Tomas', 'tomas'}"
      ]
     },
     "execution_count": 36,
     "metadata": {},
     "output_type": "execute_result"
    }
   ],
   "source": [
    "s4"
   ]
  },
  {
   "cell_type": "code",
   "execution_count": null,
   "id": "766d2bad-ff7b-4246-8716-9bbdefa36610",
   "metadata": {},
   "outputs": [],
   "source": []
  }
 ],
 "metadata": {
  "kernelspec": {
   "display_name": "Python 3 (ipykernel)",
   "language": "python",
   "name": "python3"
  },
  "language_info": {
   "codemirror_mode": {
    "name": "ipython",
    "version": 3
   },
   "file_extension": ".py",
   "mimetype": "text/x-python",
   "name": "python",
   "nbconvert_exporter": "python",
   "pygments_lexer": "ipython3",
   "version": "3.10.8"
  }
 },
 "nbformat": 4,
 "nbformat_minor": 5
}
